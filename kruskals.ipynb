{
 "cells": [
  {
   "cell_type": "markdown",
   "id": "8c5729b0",
   "metadata": {},
   "source": [
    "Kruskal's Minimal Spanning Tree Algorithm"
   ]
  },
  {
   "cell_type": "code",
   "execution_count": 1,
   "id": "63113acd",
   "metadata": {},
   "outputs": [],
   "source": [
    "class UnionFind:\n",
    "    def __init__(self, vertices):\n",
    "        self.parent = {vertex: vertex for vertex in vertices}\n",
    "        self.rank = {vertex: 0 for vertex in vertices}\n",
    "\n",
    "    def find(self, vertex):\n",
    "        if self.parent[vertex] != vertex:\n",
    "            self.parent[vertex] = self.find(self.parent[vertex])\n",
    "        return self.parent[vertex]\n",
    "\n",
    "    def union(self, vertex1, vertex2):\n",
    "        root1 = self.find(vertex1)\n",
    "        root2 = self.find(vertex2)\n",
    "        if root1 != root2:\n",
    "            if self.rank[root1] > self.rank[root2]:\n",
    "                self.parent[root2] = root1\n",
    "            elif self.rank[root1] < self.rank[root2]:\n",
    "                self.parent[root1] = root2\n",
    "            else:\n",
    "                self.parent[root1] = root2\n",
    "                self.rank[root2] += 1\n",
    "\n",
    "\n",
    "def kruskal_minimum_spanning_tree(graph):\n",
    "    minimum_spanning_tree = []\n",
    "    vertices = set()\n",
    "    for edge in graph:\n",
    "        vertices.add(edge[0])\n",
    "        vertices.add(edge[1])\n",
    "    union_find = UnionFind(vertices)\n",
    "    graph.sort(key=lambda x: x[2])  # Sort edges by weights\n",
    "    for edge in graph:\n",
    "        vertex1, vertex2, weight = edge\n",
    "        if union_find.find(vertex1) != union_find.find(vertex2):\n",
    "            union_find.union(vertex1, vertex2)\n",
    "            minimum_spanning_tree.append(edge)\n",
    "    return minimum_spanning_tree"
   ]
  },
  {
   "cell_type": "code",
   "execution_count": 2,
   "id": "7063d2bb",
   "metadata": {},
   "outputs": [
    {
     "name": "stdout",
     "output_type": "stream",
     "text": [
      "[('C', 'D', 4), ('B', 'C', 5), ('A', 'C', 6)]\n"
     ]
    }
   ],
   "source": [
    "graph = [('A', 'B', 10), ('A', 'C', 6), ('B', 'C', 5), ('B', 'D', 15), ('C', 'D', 4)]\n",
    "minimum_spanning_tree = kruskal_minimum_spanning_tree(graph)\n",
    "print(minimum_spanning_tree)"
   ]
  },
  {
   "cell_type": "code",
   "execution_count": null,
   "id": "4c7e9397",
   "metadata": {},
   "outputs": [],
   "source": []
  }
 ],
 "metadata": {
  "kernelspec": {
   "display_name": "Python 3 (ipykernel)",
   "language": "python",
   "name": "python3"
  },
  "language_info": {
   "codemirror_mode": {
    "name": "ipython",
    "version": 3
   },
   "file_extension": ".py",
   "mimetype": "text/x-python",
   "name": "python",
   "nbconvert_exporter": "python",
   "pygments_lexer": "ipython3",
   "version": "3.10.2"
  }
 },
 "nbformat": 4,
 "nbformat_minor": 5
}
