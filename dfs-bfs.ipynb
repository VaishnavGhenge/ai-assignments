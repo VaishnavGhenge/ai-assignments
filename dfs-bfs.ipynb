{
 "cells": [
  {
   "cell_type": "markdown",
   "id": "73f90847",
   "metadata": {},
   "source": [
    "## BFS and DFS\n",
    "\n",
    "Implement depth first search algorithm and Breadth First Search algorithm, Use an undirected\n",
    "graph and develop a recursive algorithm for searching all the vertices of a graph or tree data\n",
    "structure"
   ]
  },
  {
   "cell_type": "code",
   "execution_count": 1,
   "id": "73c146e4",
   "metadata": {},
   "outputs": [],
   "source": [
    "from collections import defaultdict"
   ]
  },
  {
   "cell_type": "code",
   "execution_count": 4,
   "id": "2d3b4091",
   "metadata": {},
   "outputs": [
    {
     "name": "stdout",
     "output_type": "stream",
     "text": [
      "BFS: 0 1 2 3 \n",
      "DFS: 0 1 2 3 "
     ]
    }
   ],
   "source": [
    "class Graph:\n",
    "    def __init__(self):\n",
    "        self.graph = defaultdict(list)\n",
    "        \n",
    "    def add_edge(self, v, u):\n",
    "        self.graph[v].append(u)\n",
    "        self.graph[u].append(v)\n",
    "        \n",
    "    def bfs(self, v):\n",
    "        visited = set()\n",
    "        queue = []\n",
    "        \n",
    "        queue.append(v)\n",
    "        visited.add(v)\n",
    "        \n",
    "        while queue:\n",
    "            node = queue.pop(0)\n",
    "            print(node, end=\" \")\n",
    "            \n",
    "            for nei in self.graph[node]:\n",
    "                if nei not in visited:\n",
    "                    visited.add(nei)\n",
    "                    queue.append(nei)\n",
    "    \n",
    "    def dfs(self, v, visited):\n",
    "        visited.add(v)\n",
    "        print(v, end=\" \")\n",
    "        \n",
    "        for neighbour in self.graph[v]:\n",
    "            if neighbour not in visited:\n",
    "                self.dfs(neighbour, visited)\n",
    "    \n",
    "graph = Graph()\n",
    "graph.add_edge(0, 1)\n",
    "graph.add_edge(0, 2)\n",
    "graph.add_edge(1, 2)\n",
    "graph.add_edge(2, 0)\n",
    "graph.add_edge(2, 3)\n",
    "graph.add_edge(3, 3)\n",
    "\n",
    "\n",
    "print(\"BFS: \", end=\"\")\n",
    "graph.bfs(0)\n",
    "\n",
    "print()\n",
    "visited = set()\n",
    "print(\"DFS: \", end=\"\")\n",
    "for node in graph.graph:\n",
    "    if node not in visited:\n",
    "        graph.dfs(node, visited)"
   ]
  },
  {
   "cell_type": "code",
   "execution_count": null,
   "id": "3e376ccc",
   "metadata": {},
   "outputs": [],
   "source": []
  }
 ],
 "metadata": {
  "kernelspec": {
   "display_name": "Python 3 (ipykernel)",
   "language": "python",
   "name": "python3"
  },
  "language_info": {
   "codemirror_mode": {
    "name": "ipython",
    "version": 3
   },
   "file_extension": ".py",
   "mimetype": "text/x-python",
   "name": "python",
   "nbconvert_exporter": "python",
   "pygments_lexer": "ipython3",
   "version": "3.10.2"
  }
 },
 "nbformat": 4,
 "nbformat_minor": 5
}
