{
 "cells": [
  {
   "cell_type": "markdown",
   "id": "2a841d7a",
   "metadata": {},
   "source": [
    "Prim's Minimal Spanning Tree Algorithm"
   ]
  },
  {
   "cell_type": "code",
   "execution_count": 1,
   "id": "f9ef617b",
   "metadata": {},
   "outputs": [],
   "source": [
    "def prim_minimum_spanning_tree(graph):\n",
    "    minimum_spanning_tree = []\n",
    "    visited = set()\n",
    "    # Start with any vertex\n",
    "    start_vertex = list(graph.keys())[0]\n",
    "    visited.add(start_vertex)\n",
    "    while len(visited) < len(graph):\n",
    "        min_weight = float('inf')\n",
    "        min_edge = None\n",
    "        for vertex in visited:\n",
    "            for neighbor, weight in graph[vertex]:\n",
    "                if neighbor not in visited and weight < min_weight:\n",
    "                    min_weight = weight\n",
    "                    min_edge = (vertex, neighbor)\n",
    "        minimum_spanning_tree.append(min_edge)\n",
    "        visited.add(min_edge[1])\n",
    "    return minimum_spanning_tree"
   ]
  },
  {
   "cell_type": "code",
   "execution_count": 2,
   "id": "cdf7a54a",
   "metadata": {},
   "outputs": [
    {
     "name": "stdout",
     "output_type": "stream",
     "text": [
      "[('A', 'C'), ('C', 'D'), ('C', 'B')]\n"
     ]
    }
   ],
   "source": [
    "graph = {\n",
    "    'A': [('B', 10), ('C', 6)],\n",
    "    'B': [('A', 10), ('C', 5), ('D', 15)],\n",
    "    'C': [('A', 6), ('B', 5), ('D', 4)],\n",
    "    'D': [('B', 15), ('C', 4)]\n",
    "}\n",
    "minimum_spanning_tree = prim_minimum_spanning_tree(graph)\n",
    "print(minimum_spanning_tree)"
   ]
  },
  {
   "cell_type": "code",
   "execution_count": null,
   "id": "1501ae6f",
   "metadata": {},
   "outputs": [],
   "source": []
  }
 ],
 "metadata": {
  "kernelspec": {
   "display_name": "Python 3 (ipykernel)",
   "language": "python",
   "name": "python3"
  },
  "language_info": {
   "codemirror_mode": {
    "name": "ipython",
    "version": 3
   },
   "file_extension": ".py",
   "mimetype": "text/x-python",
   "name": "python",
   "nbconvert_exporter": "python",
   "pygments_lexer": "ipython3",
   "version": "3.10.2"
  }
 },
 "nbformat": 4,
 "nbformat_minor": 5
}
