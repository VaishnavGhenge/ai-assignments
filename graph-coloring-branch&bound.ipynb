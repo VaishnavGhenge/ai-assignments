{
 "cells": [
  {
   "cell_type": "code",
   "execution_count": 1,
   "id": "e96e304a",
   "metadata": {},
   "outputs": [
    {
     "name": "stdout",
     "output_type": "stream",
     "text": [
      "Vertex Coloring:\n",
      "Vertex 0: 0\n",
      "Vertex 1: 0\n",
      "Vertex 2: 1\n",
      "Vertex 3: 2\n"
     ]
    }
   ],
   "source": [
    "class GraphColoring:\n",
    "    def __init__(self, graph, colors):\n",
    "        self.graph = graph\n",
    "        self.colors = colors\n",
    "        self.num_vertices = len(graph)\n",
    "        self.best_solution = None\n",
    "        self.min_conflicts = float('inf')\n",
    "\n",
    "    def solve(self):\n",
    "        initial_solution = [-1] * self.num_vertices\n",
    "        self._branch_and_bound(initial_solution, 0)\n",
    "        return self.best_solution\n",
    "\n",
    "    def _branch_and_bound(self, solution, vertex):\n",
    "        if vertex == self.num_vertices:\n",
    "            # Found a valid coloring\n",
    "            conflicts = self._count_conflicts(solution)\n",
    "            if conflicts < self.min_conflicts:\n",
    "                self.min_conflicts = conflicts\n",
    "                self.best_solution = solution.copy()\n",
    "            return\n",
    "\n",
    "        for color in self.colors:\n",
    "            solution[vertex] = color\n",
    "\n",
    "            # Branch and bound: Prune branches with more conflicts than the current best solution\n",
    "            if self._count_conflicts(solution) < self.min_conflicts:\n",
    "                self._branch_and_bound(solution, vertex + 1)\n",
    "\n",
    "            solution[vertex] = -1\n",
    "\n",
    "    def _count_conflicts(self, solution):\n",
    "        conflicts = 0\n",
    "        for vertex in range(self.num_vertices):\n",
    "            for neighbor in self.graph[vertex]:\n",
    "                if solution[vertex] == solution[neighbor]:\n",
    "                    conflicts += 1\n",
    "        return conflicts\n",
    "\n",
    "\n",
    "# Example usage\n",
    "graph = {\n",
    "    0: [1, 2],\n",
    "    1: [0, 2, 3],\n",
    "    2: [0, 1, 3],\n",
    "    3: [1, 2],\n",
    "}\n",
    "\n",
    "colors = [0, 1, 2]  # Assign integer indices to colors\n",
    "\n",
    "graph_coloring = GraphColoring(graph, colors)\n",
    "solution = graph_coloring.solve()\n",
    "\n",
    "print(\"Vertex Coloring:\")\n",
    "for vertex, color_index in enumerate(solution):\n",
    "    print(f\"Vertex {vertex}: {colors[color_index]}\")"
   ]
  },
  {
   "cell_type": "code",
   "execution_count": null,
   "id": "c84d1bfe",
   "metadata": {},
   "outputs": [],
   "source": []
  }
 ],
 "metadata": {
  "kernelspec": {
   "display_name": "Python 3 (ipykernel)",
   "language": "python",
   "name": "python3"
  },
  "language_info": {
   "codemirror_mode": {
    "name": "ipython",
    "version": 3
   },
   "file_extension": ".py",
   "mimetype": "text/x-python",
   "name": "python",
   "nbconvert_exporter": "python",
   "pygments_lexer": "ipython3",
   "version": "3.10.2"
  }
 },
 "nbformat": 4,
 "nbformat_minor": 5
}
