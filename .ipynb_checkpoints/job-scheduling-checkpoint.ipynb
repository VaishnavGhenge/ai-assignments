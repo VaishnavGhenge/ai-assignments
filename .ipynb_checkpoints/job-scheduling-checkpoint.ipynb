{
 "cells": [
  {
   "cell_type": "markdown",
   "id": "8f8cf388",
   "metadata": {},
   "source": [
    "Job Scheduling Problem"
   ]
  },
  {
   "cell_type": "code",
   "execution_count": 1,
   "id": "34f2aa8b",
   "metadata": {},
   "outputs": [],
   "source": [
    "def job_scheduling(jobs):\n",
    "    jobs.sort(key=lambda x: x[1])  # Sort jobs by finish times\n",
    "    scheduled_jobs = []\n",
    "    scheduled_jobs.append(jobs[0])\n",
    "    for job in jobs[1:]:\n",
    "        if job[0] >= scheduled_jobs[-1][1]:\n",
    "            scheduled_jobs.append(job)\n",
    "    return scheduled_jobs"
   ]
  },
  {
   "cell_type": "code",
   "execution_count": 2,
   "id": "8207b996",
   "metadata": {},
   "outputs": [
    {
     "name": "stdout",
     "output_type": "stream",
     "text": [
      "[(1, 3), (4, 7)]\n"
     ]
    }
   ],
   "source": [
    "jobs = [(1, 3), (2, 5), (4, 7), (6, 9)]\n",
    "scheduled_jobs = job_scheduling(jobs)\n",
    "print(scheduled_jobs)"
   ]
  },
  {
   "cell_type": "code",
   "execution_count": null,
   "id": "633061ee",
   "metadata": {},
   "outputs": [],
   "source": []
  }
 ],
 "metadata": {
  "kernelspec": {
   "display_name": "Python 3 (ipykernel)",
   "language": "python",
   "name": "python3"
  },
  "language_info": {
   "codemirror_mode": {
    "name": "ipython",
    "version": 3
   },
   "file_extension": ".py",
   "mimetype": "text/x-python",
   "name": "python",
   "nbconvert_exporter": "python",
   "pygments_lexer": "ipython3",
   "version": "3.10.2"
  }
 },
 "nbformat": 4,
 "nbformat_minor": 5
}
