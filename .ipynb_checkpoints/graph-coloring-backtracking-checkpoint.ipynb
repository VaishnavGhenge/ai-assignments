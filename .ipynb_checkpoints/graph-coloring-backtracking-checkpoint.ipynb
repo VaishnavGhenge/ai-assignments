{
 "cells": [
  {
   "cell_type": "markdown",
   "id": "b5b28008",
   "metadata": {},
   "source": [
    "Implement a solution for a Constraint Satisfaction Problem using Branch and Bound and \n",
    "Backtracking for a graph coloring problem."
   ]
  },
  {
   "cell_type": "code",
   "execution_count": 2,
   "id": "03a944b6",
   "metadata": {},
   "outputs": [
    {
     "name": "stdout",
     "output_type": "stream",
     "text": [
      "Vertex Coloring:\n",
      "Vertex 0: 0\n",
      "Vertex 1: 1\n",
      "Vertex 2: 2\n",
      "Vertex 3: 0\n"
     ]
    }
   ],
   "source": [
    "class GraphColoring:\n",
    "    def __init__(self, graph, colors):\n",
    "        self.graph = graph\n",
    "        self.colors = colors\n",
    "        self.num_vertices = len(graph)\n",
    "        self.solution = [-1] * self.num_vertices\n",
    "        self.best_solution = None\n",
    "        self.min_conflicts = float('inf')\n",
    "\n",
    "    def solve(self):\n",
    "        self._backtrack(0)\n",
    "        return self.best_solution\n",
    "\n",
    "    def _backtrack(self, vertex):\n",
    "        if vertex == self.num_vertices:\n",
    "            # Found a valid coloring\n",
    "            conflicts = self._count_conflicts()\n",
    "            if conflicts < self.min_conflicts:\n",
    "                self.min_conflicts = conflicts\n",
    "                self.best_solution = self.solution.copy()\n",
    "            return\n",
    "\n",
    "        for color in self.colors:\n",
    "            if self._is_safe(vertex, color):\n",
    "                self.solution[vertex] = color\n",
    "                self._backtrack(vertex + 1)\n",
    "                self.solution[vertex] = -1\n",
    "\n",
    "    def _is_safe(self, vertex, color):\n",
    "        for neighbor in self.graph[vertex]:\n",
    "            if self.solution[neighbor] == color:\n",
    "                return False\n",
    "        return True\n",
    "\n",
    "    def _count_conflicts(self):\n",
    "        conflicts = 0\n",
    "        for vertex in range(self.num_vertices):\n",
    "            for neighbor in self.graph[vertex]:\n",
    "                if self.solution[vertex] == self.solution[neighbor]:\n",
    "                    conflicts += 1\n",
    "        return conflicts\n",
    "\n",
    "\n",
    "# Example usage\n",
    "graph = {\n",
    "    0: [1, 2],\n",
    "    1: [0, 2, 3],\n",
    "    2: [0, 1, 3],\n",
    "    3: [1, 2],\n",
    "}\n",
    "\n",
    "colors = [0, 1, 2]  # Assign integer indices to colors\n",
    "\n",
    "graph_coloring = GraphColoring(graph, colors)\n",
    "solution = graph_coloring.solve()\n",
    "\n",
    "print(\"Vertex Coloring:\")\n",
    "for vertex, color_index in enumerate(solution):\n",
    "    print(f\"Vertex {vertex}: {colors[color_index]}\")\n"
   ]
  },
  {
   "cell_type": "code",
   "execution_count": null,
   "id": "fa388942",
   "metadata": {},
   "outputs": [],
   "source": []
  }
 ],
 "metadata": {
  "kernelspec": {
   "display_name": "Python 3 (ipykernel)",
   "language": "python",
   "name": "python3"
  },
  "language_info": {
   "codemirror_mode": {
    "name": "ipython",
    "version": 3
   },
   "file_extension": ".py",
   "mimetype": "text/x-python",
   "name": "python",
   "nbconvert_exporter": "python",
   "pygments_lexer": "ipython3",
   "version": "3.10.2"
  }
 },
 "nbformat": 4,
 "nbformat_minor": 5
}
