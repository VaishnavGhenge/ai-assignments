{
 "cells": [
  {
   "cell_type": "code",
   "execution_count": 1,
   "id": "9e8d6ed9",
   "metadata": {},
   "outputs": [
    {
     "name": "stdout",
     "output_type": "stream",
     "text": [
      "Number of solutions for 4-queens: 2\n",
      "Solution 1:\n",
      "- Q - -\n",
      "- - - Q\n",
      "Q - - -\n",
      "- - Q -\n",
      "\n",
      "Solution 2:\n",
      "- - Q -\n",
      "Q - - -\n",
      "- - - Q\n",
      "- Q - -\n",
      "\n"
     ]
    }
   ],
   "source": [
    "class NQueens:\n",
    "    def __init__(self, n):\n",
    "        self.n = n\n",
    "        self.board = [-1] * n\n",
    "        self.solutions = []\n",
    "\n",
    "    def solve(self):\n",
    "        self._branch_and_bound(0)\n",
    "        return self.solutions\n",
    "\n",
    "    def _branch_and_bound(self, col):\n",
    "        if col == self.n:\n",
    "            solution = self.board.copy()\n",
    "            self.solutions.append(solution)\n",
    "            return True\n",
    "\n",
    "        for row in range(self.n):\n",
    "            if self._is_safe(row, col):\n",
    "                self.board[col] = row\n",
    "                self._branch_and_bound(col + 1)\n",
    "                self.board[col] = -1\n",
    "\n",
    "    def _is_safe(self, row, col):\n",
    "        for i in range(col):\n",
    "            if (\n",
    "                self.board[i] == row\n",
    "                or self.board[i] - row == i - col\n",
    "                or self.board[i] - row == col - i\n",
    "            ):\n",
    "                return False\n",
    "        return True\n",
    "\n",
    "\n",
    "# Example usage\n",
    "n = 4\n",
    "n_queens = NQueens(n)\n",
    "solutions = n_queens.solve()\n",
    "\n",
    "print(f\"Number of solutions for {n}-queens: {len(solutions)}\")\n",
    "for i, solution in enumerate(solutions):\n",
    "    print(f\"Solution {i+1}:\")\n",
    "    for row in solution:\n",
    "        queens_row = [\"Q\" if i == row else \"-\" for i in range(n)]\n",
    "        print(\" \".join(queens_row))\n",
    "    print()\n"
   ]
  },
  {
   "cell_type": "code",
   "execution_count": null,
   "id": "181cf595",
   "metadata": {},
   "outputs": [],
   "source": []
  }
 ],
 "metadata": {
  "kernelspec": {
   "display_name": "Python 3 (ipykernel)",
   "language": "python",
   "name": "python3"
  },
  "language_info": {
   "codemirror_mode": {
    "name": "ipython",
    "version": 3
   },
   "file_extension": ".py",
   "mimetype": "text/x-python",
   "name": "python",
   "nbconvert_exporter": "python",
   "pygments_lexer": "ipython3",
   "version": "3.10.2"
  }
 },
 "nbformat": 4,
 "nbformat_minor": 5
}
