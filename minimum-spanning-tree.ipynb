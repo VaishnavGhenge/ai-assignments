{
 "cells": [
  {
   "cell_type": "code",
   "execution_count": 1,
   "id": "0821de0c",
   "metadata": {},
   "outputs": [],
   "source": [
    "def minimum_spanning_tree(graph):\n",
    "    minimum_spanning_tree = []\n",
    "    visited = set()\n",
    "    # Start with any vertex\n",
    "    start_vertex = list(graph.keys())[0]\n",
    "    visited.add(start_vertex)\n",
    "    while len(visited) < len(graph):\n",
    "        min_weight = float('inf')\n",
    "        min_edge = None\n",
    "        for vertex in visited:\n",
    "            for neighbor, weight in graph[vertex]:\n",
    "                if neighbor not in visited and weight < min_weight:\n",
    "                    min_weight = weight\n",
    "                    min_edge = (vertex, neighbor)\n",
    "        minimum_spanning_tree.append(min_edge)\n",
    "        visited.add(min_edge[1])\n",
    "    return minimum_spanning_tree"
   ]
  },
  {
   "cell_type": "code",
   "execution_count": 2,
   "id": "f4a9e3ff",
   "metadata": {},
   "outputs": [
    {
     "name": "stdout",
     "output_type": "stream",
     "text": [
      "[('A', 'D'), ('A', 'C'), ('C', 'B')]\n"
     ]
    }
   ],
   "source": [
    "# Example graph\n",
    "graph = {\n",
    "    'A': [('B', 5), ('C', 3), ('D', 2)],\n",
    "    'B': [('A', 5), ('C', 4)],\n",
    "    'C': [('A', 3), ('B', 4), ('D', 6)],\n",
    "    'D': [('A', 2), ('C', 6)]\n",
    "}\n",
    "\n",
    "# Call the minimum_spanning_tree function\n",
    "result = minimum_spanning_tree(graph)\n",
    "\n",
    "# Print the result\n",
    "print(result)\n"
   ]
  },
  {
   "cell_type": "code",
   "execution_count": null,
   "id": "61f0c104",
   "metadata": {},
   "outputs": [],
   "source": []
  }
 ],
 "metadata": {
  "kernelspec": {
   "display_name": "Python 3 (ipykernel)",
   "language": "python",
   "name": "python3"
  },
  "language_info": {
   "codemirror_mode": {
    "name": "ipython",
    "version": 3
   },
   "file_extension": ".py",
   "mimetype": "text/x-python",
   "name": "python",
   "nbconvert_exporter": "python",
   "pygments_lexer": "ipython3",
   "version": "3.10.2"
  }
 },
 "nbformat": 4,
 "nbformat_minor": 5
}
